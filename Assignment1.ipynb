{
 "cells": [
  {
   "cell_type": "code",
   "execution_count": 8,
   "metadata": {},
   "outputs": [
    {
     "name": "stderr",
     "output_type": "stream",
     "text": [
      "C:\\Users\\hp\\AppData\\Local\\Temp\\ipykernel_12164\\1688940591.py:9: FutureWarning: A value is trying to be set on a copy of a DataFrame or Series through chained assignment using an inplace method.\n",
      "The behavior will change in pandas 3.0. This inplace method will never work because the intermediate object on which we are setting values always behaves as a copy.\n",
      "\n",
      "For example, when doing 'df[col].method(value, inplace=True)', try using 'df.method({col: value}, inplace=True)' or df[col] = df[col].method(value) instead, to perform the operation inplace on the original object.\n",
      "\n",
      "\n",
      "  students['MathScore'].fillna(students['MathScore'].mean(), inplace=True)\n",
      "C:\\Users\\hp\\AppData\\Local\\Temp\\ipykernel_12164\\1688940591.py:10: FutureWarning: A value is trying to be set on a copy of a DataFrame or Series through chained assignment using an inplace method.\n",
      "The behavior will change in pandas 3.0. This inplace method will never work because the intermediate object on which we are setting values always behaves as a copy.\n",
      "\n",
      "For example, when doing 'df[col].method(value, inplace=True)', try using 'df.method({col: value}, inplace=True)' or df[col] = df[col].method(value) instead, to perform the operation inplace on the original object.\n",
      "\n",
      "\n",
      "  students['EnglishScore'].fillna(students['EnglishScore'].mean(), inplace=True)\n"
     ]
    }
   ],
   "source": [
    "import pandas as pd\n",
    "from sklearn.preprocessing import LabelEncoder\n",
    "from scipy.stats import zscore\n",
    "\n",
    "# Load dataset\n",
    "students = pd.read_csv('students.csv')\n",
    "\n",
    "# 1. Handle missing values\n",
    "students['MathScore'].fillna(students['MathScore'].mean(), inplace=True)\n",
    "students['EnglishScore'].fillna(students['EnglishScore'].mean(), inplace=True)\n",
    "\n",
    "# 2. Encode Gender column\n",
    "le = LabelEncoder()\n",
    "students['Gender'] = le.fit_transform(students['Gender'])\n",
    "\n",
    "# 3. Correct TotalScore column\n",
    "students['TotalScore'] = students['MathScore'] + students['EnglishScore']\n",
    "\n",
    "# 4. Standardize the scores\n",
    "students[['MathScore', 'EnglishScore', 'TotalScore']] = students[['MathScore', 'EnglishScore', 'TotalScore']].apply(zscore)\n",
    "\n",
    "# Save the cleaned dataset\n",
    "students.to_csv('cleaned_students.csv', index=False)\n"
   ]
  },
  {
   "cell_type": "code",
   "execution_count": 12,
   "metadata": {},
   "outputs": [],
   "source": [
    "# Load the dataset\n",
    "import pandas as pd\n",
    "sales_df = pd.read_csv('sales.csv')"
   ]
  },
  {
   "cell_type": "code",
   "execution_count": 15,
   "metadata": {},
   "outputs": [],
   "source": [
    "# Create a new Revenue column\n",
    "sales_df['Revenue'] = sales_df['Price'] * sales_df['QuantitySold']"
   ]
  },
  {
   "cell_type": "code",
   "execution_count": 16,
   "metadata": {},
   "outputs": [
    {
     "name": "stdout",
     "output_type": "stream",
     "text": [
      "   ProductID  Price  QuantitySold\n",
      "0          1     10           100\n",
      "1          2     15           200\n",
      "2          3   1000           300\n",
      "3          4     20           150\n",
      "4          5     25           250\n"
     ]
    }
   ],
   "source": [
    "import pandas as pd\n",
    "from scipy import stats\n",
    "\n",
    "# Example DataFrame\n",
    "data = {\n",
    "    'ProductID': [1, 2, 3, 4, 5],\n",
    "    'Price': [10, 15, 1000, 20, 25],  # 1000 is an outlier\n",
    "    'QuantitySold': [100, 200, 300, 150, 250]\n",
    "}\n",
    "sales_df = pd.DataFrame(data)\n",
    "\n",
    "# Calculate Z-scores for the Price column\n",
    "z_scores = stats.zscore(sales_df['Price'])\n",
    "\n",
    "# Remove outliers\n",
    "sales_df = sales_df[(z_scores < 3) & (z_scores > -3)]\n",
    "\n",
    "print(sales_df)"
   ]
  },
  {
   "cell_type": "code",
   "execution_count": 19,
   "metadata": {},
   "outputs": [
    {
     "name": "stdout",
     "output_type": "stream",
     "text": [
      "Columns in sales_df: Index(['id', 'Marital status', 'Application mode', 'Application order',\n",
      "       'Course', 'Daytime/evening attendance', 'Previous qualification',\n",
      "       'Previous qualification (grade)', 'Nacionality',\n",
      "       'Mother's qualification', 'Father's qualification',\n",
      "       'Mother's occupation', 'Father's occupation', 'Admission grade',\n",
      "       'Displaced', 'Educational special needs', 'Debtor',\n",
      "       'Tuition fees up to date', 'Gender', 'Scholarship holder',\n",
      "       'Age at enrollment', 'International',\n",
      "       'Curricular units 1st sem (credited)',\n",
      "       'Curricular units 1st sem (enrolled)',\n",
      "       'Curricular units 1st sem (evaluations)',\n",
      "       'Curricular units 1st sem (approved)',\n",
      "       'Curricular units 1st sem (grade)',\n",
      "       'Curricular units 1st sem (without evaluations)',\n",
      "       'Curricular units 2nd sem (credited)',\n",
      "       'Curricular units 2nd sem (enrolled)',\n",
      "       'Curricular units 2nd sem (evaluations)',\n",
      "       'Curricular units 2nd sem (approved)',\n",
      "       'Curricular units 2nd sem (grade)',\n",
      "       'Curricular units 2nd sem (without evaluations)', 'Unemployment rate',\n",
      "       'Inflation rate', 'GDP', 'Target'],\n",
      "      dtype='object')\n",
      "One or both of the columns 'Price' and 'Revenue' do not exist in the DataFrame.\n"
     ]
    }
   ],
   "source": [
    "import pandas as pd\n",
    "from sklearn.preprocessing import MinMaxScaler\n",
    "\n",
    "# Load your data (update the filename as needed)\n",
    "sales_df = pd.read_csv(r'C:\\Users\\hp\\OneDrive\\Desktop\\BOOTCAMP\\train.csv')\n",
    "\n",
    "# Check the column names\n",
    "print(\"Columns in sales_df:\", sales_df.columns)\n",
    "\n",
    "# Min-Max scaling for Price and Revenue (update the names if necessary)\n",
    "scaler = MinMaxScaler()\n",
    "\n",
    "# Ensure both columns exist before applying MinMaxScaler\n",
    "if 'Price' in sales_df.columns and 'Revenue' in sales_df.columns:\n",
    "    sales_df[['Price', 'Revenue']] = scaler.fit_transform(sales_df[['Price', 'Revenue']])\n",
    "else:\n",
    "    print(\"One or both of the columns 'Price' and 'Revenue' do not exist in the DataFrame.\")"
   ]
  }
 ],
 "metadata": {
  "kernelspec": {
   "display_name": "Python 3",
   "language": "python",
   "name": "python3"
  },
  "language_info": {
   "codemirror_mode": {
    "name": "ipython",
    "version": 3
   },
   "file_extension": ".py",
   "mimetype": "text/x-python",
   "name": "python",
   "nbconvert_exporter": "python",
   "pygments_lexer": "ipython3",
   "version": "3.12.6"
  }
 },
 "nbformat": 4,
 "nbformat_minor": 2
}
